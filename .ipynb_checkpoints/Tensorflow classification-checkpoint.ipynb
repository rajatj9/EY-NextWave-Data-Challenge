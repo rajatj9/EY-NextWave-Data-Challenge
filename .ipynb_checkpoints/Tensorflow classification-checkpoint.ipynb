{
 "cells": [
  {
   "cell_type": "code",
   "execution_count": 1,
   "metadata": {},
   "outputs": [],
   "source": [
    "import pandas as pd\n",
    "import datetime\n",
    "import numpy as np"
   ]
  },
  {
   "cell_type": "code",
   "execution_count": 2,
   "metadata": {},
   "outputs": [],
   "source": [
    "df = pd.read_csv('data_train_partial.csv')"
   ]
  },
  {
   "cell_type": "code",
   "execution_count": 3,
   "metadata": {},
   "outputs": [
    {
     "data": {
      "text/html": [
       "<div>\n",
       "<style scoped>\n",
       "    .dataframe tbody tr th:only-of-type {\n",
       "        vertical-align: middle;\n",
       "    }\n",
       "\n",
       "    .dataframe tbody tr th {\n",
       "        vertical-align: top;\n",
       "    }\n",
       "\n",
       "    .dataframe thead th {\n",
       "        text-align: right;\n",
       "    }\n",
       "</style>\n",
       "<table border=\"1\" class=\"dataframe\">\n",
       "  <thead>\n",
       "    <tr style=\"text-align: right;\">\n",
       "      <th></th>\n",
       "      <th>time_entry</th>\n",
       "      <th>time_exit</th>\n",
       "      <th>x_entry</th>\n",
       "      <th>y_entry</th>\n",
       "      <th>target</th>\n",
       "    </tr>\n",
       "  </thead>\n",
       "  <tbody>\n",
       "    <tr>\n",
       "      <th>0</th>\n",
       "      <td>1.554734e+12</td>\n",
       "      <td>1.554738e+12</td>\n",
       "      <td>3.763779e+06</td>\n",
       "      <td>-1.923126e+07</td>\n",
       "      <td>0</td>\n",
       "    </tr>\n",
       "    <tr>\n",
       "      <th>1</th>\n",
       "      <td>1.554732e+12</td>\n",
       "      <td>1.554733e+12</td>\n",
       "      <td>3.744552e+06</td>\n",
       "      <td>-1.929352e+07</td>\n",
       "      <td>0</td>\n",
       "    </tr>\n",
       "    <tr>\n",
       "      <th>2</th>\n",
       "      <td>1.554718e+12</td>\n",
       "      <td>1.554718e+12</td>\n",
       "      <td>3.754193e+06</td>\n",
       "      <td>-1.927369e+07</td>\n",
       "      <td>0</td>\n",
       "    </tr>\n",
       "    <tr>\n",
       "      <th>3</th>\n",
       "      <td>1.554733e+12</td>\n",
       "      <td>1.554734e+12</td>\n",
       "      <td>3.770600e+06</td>\n",
       "      <td>-1.914547e+07</td>\n",
       "      <td>0</td>\n",
       "    </tr>\n",
       "    <tr>\n",
       "      <th>4</th>\n",
       "      <td>1.554714e+12</td>\n",
       "      <td>1.554714e+12</td>\n",
       "      <td>3.745408e+06</td>\n",
       "      <td>-1.931269e+07</td>\n",
       "      <td>0</td>\n",
       "    </tr>\n",
       "  </tbody>\n",
       "</table>\n",
       "</div>"
      ],
      "text/plain": [
       "     time_entry     time_exit       x_entry       y_entry  target\n",
       "0  1.554734e+12  1.554738e+12  3.763779e+06 -1.923126e+07       0\n",
       "1  1.554732e+12  1.554733e+12  3.744552e+06 -1.929352e+07       0\n",
       "2  1.554718e+12  1.554718e+12  3.754193e+06 -1.927369e+07       0\n",
       "3  1.554733e+12  1.554734e+12  3.770600e+06 -1.914547e+07       0\n",
       "4  1.554714e+12  1.554714e+12  3.745408e+06 -1.931269e+07       0"
      ]
     },
     "execution_count": 3,
     "metadata": {},
     "output_type": "execute_result"
    }
   ],
   "source": [
    "df.head()"
   ]
  },
  {
   "cell_type": "code",
   "execution_count": 4,
   "metadata": {},
   "outputs": [],
   "source": [
    "cols_to_normalize = ['time_entry', 'time_exit', 'x_entry', 'y_entry']"
   ]
  },
  {
   "cell_type": "code",
   "execution_count": 5,
   "metadata": {},
   "outputs": [],
   "source": [
    "df[cols_to_normalize] = df[cols_to_normalize].apply(lambda x: (x-x.min())/ (x.max() - x.min()) )"
   ]
  },
  {
   "cell_type": "code",
   "execution_count": 6,
   "metadata": {},
   "outputs": [
    {
     "data": {
      "text/html": [
       "<div>\n",
       "<style scoped>\n",
       "    .dataframe tbody tr th:only-of-type {\n",
       "        vertical-align: middle;\n",
       "    }\n",
       "\n",
       "    .dataframe tbody tr th {\n",
       "        vertical-align: top;\n",
       "    }\n",
       "\n",
       "    .dataframe thead th {\n",
       "        text-align: right;\n",
       "    }\n",
       "</style>\n",
       "<table border=\"1\" class=\"dataframe\">\n",
       "  <thead>\n",
       "    <tr style=\"text-align: right;\">\n",
       "      <th></th>\n",
       "      <th>time_entry</th>\n",
       "      <th>time_exit</th>\n",
       "      <th>x_entry</th>\n",
       "      <th>y_entry</th>\n",
       "      <th>target</th>\n",
       "    </tr>\n",
       "  </thead>\n",
       "  <tbody>\n",
       "    <tr>\n",
       "      <th>0</th>\n",
       "      <td>0.917517</td>\n",
       "      <td>0.972604</td>\n",
       "      <td>0.631470</td>\n",
       "      <td>0.445691</td>\n",
       "      <td>0</td>\n",
       "    </tr>\n",
       "    <tr>\n",
       "      <th>1</th>\n",
       "      <td>0.873576</td>\n",
       "      <td>0.894687</td>\n",
       "      <td>0.097741</td>\n",
       "      <td>0.262730</td>\n",
       "      <td>0</td>\n",
       "    </tr>\n",
       "    <tr>\n",
       "      <th>2</th>\n",
       "      <td>0.637587</td>\n",
       "      <td>0.637587</td>\n",
       "      <td>0.365378</td>\n",
       "      <td>0.321020</td>\n",
       "      <td>0</td>\n",
       "    </tr>\n",
       "    <tr>\n",
       "      <th>3</th>\n",
       "      <td>0.896892</td>\n",
       "      <td>0.905434</td>\n",
       "      <td>0.820834</td>\n",
       "      <td>0.697832</td>\n",
       "      <td>0</td>\n",
       "    </tr>\n",
       "    <tr>\n",
       "      <th>4</th>\n",
       "      <td>0.566858</td>\n",
       "      <td>0.566858</td>\n",
       "      <td>0.121504</td>\n",
       "      <td>0.206392</td>\n",
       "      <td>0</td>\n",
       "    </tr>\n",
       "  </tbody>\n",
       "</table>\n",
       "</div>"
      ],
      "text/plain": [
       "   time_entry  time_exit   x_entry   y_entry  target\n",
       "0    0.917517   0.972604  0.631470  0.445691       0\n",
       "1    0.873576   0.894687  0.097741  0.262730       0\n",
       "2    0.637587   0.637587  0.365378  0.321020       0\n",
       "3    0.896892   0.905434  0.820834  0.697832       0\n",
       "4    0.566858   0.566858  0.121504  0.206392       0"
      ]
     },
     "execution_count": 6,
     "metadata": {},
     "output_type": "execute_result"
    }
   ],
   "source": [
    "df.head()"
   ]
  },
  {
   "cell_type": "code",
   "execution_count": 7,
   "metadata": {},
   "outputs": [],
   "source": [
    "import tensorflow as tf"
   ]
  },
  {
   "cell_type": "code",
   "execution_count": 8,
   "metadata": {},
   "outputs": [
    {
     "data": {
      "text/plain": [
       "Index(['time_entry', 'time_exit', 'x_entry', 'y_entry', 'target'], dtype='object')"
      ]
     },
     "execution_count": 8,
     "metadata": {},
     "output_type": "execute_result"
    }
   ],
   "source": [
    "df.columns"
   ]
  },
  {
   "cell_type": "code",
   "execution_count": 9,
   "metadata": {},
   "outputs": [],
   "source": [
    "time_entry_ftr = tf.feature_column.numeric_column('time_entry')\n",
    "time_exit_ftr = tf.feature_column.numeric_column('time_exit')\n",
    "x_entry_ftr = tf.feature_column.numeric_column('x_entry')\n",
    "y_entry_ftr = tf.feature_column.numeric_column('y_entry')"
   ]
  },
  {
   "cell_type": "code",
   "execution_count": 11,
   "metadata": {},
   "outputs": [],
   "source": [
    "feat_cols = [time_entry_ftr,time_exit_ftr,x_entry_ftr,y_entry_ftr ]"
   ]
  },
  {
   "cell_type": "code",
   "execution_count": 21,
   "metadata": {},
   "outputs": [],
   "source": [
    "X = df.drop('target', axis=1)\n",
    "y = df['target']"
   ]
  },
  {
   "cell_type": "code",
   "execution_count": 22,
   "metadata": {},
   "outputs": [],
   "source": [
    "from sklearn.model_selection import train_test_split\n",
    "X_train, X_test, y_train, y_test = train_test_split(X, y, test_size = 0.3, random_state = 101)"
   ]
  },
  {
   "cell_type": "code",
   "execution_count": 23,
   "metadata": {},
   "outputs": [],
   "source": [
    "input_func = tf.estimator.inputs.pandas_input_fn(x=X_train, y=y_train, batch_size=10, num_epochs=1000, shuffle=True)"
   ]
  },
  {
   "cell_type": "code",
   "execution_count": 24,
   "metadata": {},
   "outputs": [
    {
     "name": "stdout",
     "output_type": "stream",
     "text": [
      "INFO:tensorflow:Using default config.\n",
      "WARNING:tensorflow:Using temporary folder as model directory: /tmp/tmp58zpr6ww\n",
      "INFO:tensorflow:Using config: {'_model_dir': '/tmp/tmp58zpr6ww', '_tf_random_seed': None, '_save_summary_steps': 100, '_save_checkpoints_steps': None, '_save_checkpoints_secs': 600, '_session_config': allow_soft_placement: true\n",
      "graph_options {\n",
      "  rewrite_options {\n",
      "    meta_optimizer_iterations: ONE\n",
      "  }\n",
      "}\n",
      ", '_keep_checkpoint_max': 5, '_keep_checkpoint_every_n_hours': 10000, '_log_step_count_steps': 100, '_train_distribute': None, '_device_fn': None, '_protocol': None, '_eval_distribute': None, '_experimental_distribute': None, '_service': None, '_cluster_spec': <tensorflow.python.training.server_lib.ClusterSpec object at 0x7f3fcef040f0>, '_task_type': 'worker', '_task_id': 0, '_global_id_in_cluster': 0, '_master': '', '_evaluation_master': '', '_is_chief': True, '_num_ps_replicas': 0, '_num_worker_replicas': 1}\n"
     ]
    }
   ],
   "source": [
    "model = tf.estimator.LinearClassifier(feature_columns=feat_cols, n_classes=2)"
   ]
  },
  {
   "cell_type": "code",
   "execution_count": 25,
   "metadata": {},
   "outputs": [
    {
     "name": "stdout",
     "output_type": "stream",
     "text": [
      "INFO:tensorflow:Calling model_fn.\n",
      "INFO:tensorflow:Done calling model_fn.\n",
      "INFO:tensorflow:Create CheckpointSaverHook.\n",
      "INFO:tensorflow:Graph was finalized.\n",
      "INFO:tensorflow:Running local_init_op.\n",
      "INFO:tensorflow:Done running local_init_op.\n",
      "WARNING:tensorflow:From /userhome/comp3314/c3314g15/.local/lib/python3.6/site-packages/tensorflow/python/training/monitored_session.py:809: start_queue_runners (from tensorflow.python.training.queue_runner_impl) is deprecated and will be removed in a future version.\n",
      "Instructions for updating:\n",
      "To construct input pipelines, use the `tf.data` module.\n",
      "INFO:tensorflow:Saving checkpoints for 0 into /tmp/tmp58zpr6ww/model.ckpt.\n",
      "INFO:tensorflow:loss = 6.931472, step = 0\n",
      "INFO:tensorflow:global_step/sec: 170.945\n",
      "INFO:tensorflow:loss = 6.8256054, step = 100 (0.587 sec)\n",
      "INFO:tensorflow:global_step/sec: 229.992\n",
      "INFO:tensorflow:loss = 6.9325767, step = 200 (0.435 sec)\n",
      "INFO:tensorflow:global_step/sec: 216.19\n",
      "INFO:tensorflow:loss = 6.867478, step = 300 (0.462 sec)\n",
      "INFO:tensorflow:global_step/sec: 284.952\n",
      "INFO:tensorflow:loss = 6.106674, step = 400 (0.351 sec)\n",
      "INFO:tensorflow:global_step/sec: 229.51\n",
      "INFO:tensorflow:loss = 6.568373, step = 500 (0.436 sec)\n",
      "INFO:tensorflow:global_step/sec: 268.533\n",
      "INFO:tensorflow:loss = 5.9336176, step = 600 (0.371 sec)\n",
      "INFO:tensorflow:global_step/sec: 254.292\n",
      "INFO:tensorflow:loss = 6.188807, step = 700 (0.393 sec)\n",
      "INFO:tensorflow:global_step/sec: 255.884\n",
      "INFO:tensorflow:loss = 6.188256, step = 800 (0.391 sec)\n",
      "INFO:tensorflow:global_step/sec: 259.249\n",
      "INFO:tensorflow:loss = 7.090129, step = 900 (0.387 sec)\n",
      "INFO:tensorflow:Saving checkpoints for 1000 into /tmp/tmp58zpr6ww/model.ckpt.\n",
      "INFO:tensorflow:Loss for final step: 5.9487653.\n"
     ]
    },
    {
     "data": {
      "text/plain": [
       "<tensorflow_estimator.python.estimator.canned.linear.LinearClassifier at 0x7f3fcf40bcc0>"
      ]
     },
     "execution_count": 25,
     "metadata": {},
     "output_type": "execute_result"
    }
   ],
   "source": [
    "model.train(input_fn=input_func, steps=1000)"
   ]
  },
  {
   "cell_type": "code",
   "execution_count": 26,
   "metadata": {},
   "outputs": [],
   "source": [
    "eval_input_func = tf.estimator.inputs.pandas_input_fn(\n",
    "      x=X_test,\n",
    "      y=y_test,\n",
    "      batch_size=10,\n",
    "      num_epochs=1,\n",
    "      shuffle=False)"
   ]
  },
  {
   "cell_type": "code",
   "execution_count": 28,
   "metadata": {},
   "outputs": [
    {
     "name": "stdout",
     "output_type": "stream",
     "text": [
      "INFO:tensorflow:Calling model_fn.\n",
      "WARNING:tensorflow:Trapezoidal rule is known to produce incorrect PR-AUCs; please switch to \"careful_interpolation\" instead.\n",
      "WARNING:tensorflow:Trapezoidal rule is known to produce incorrect PR-AUCs; please switch to \"careful_interpolation\" instead.\n",
      "INFO:tensorflow:Done calling model_fn.\n",
      "INFO:tensorflow:Starting evaluation at 2019-04-09T14:27:42Z\n",
      "INFO:tensorflow:Graph was finalized.\n",
      "INFO:tensorflow:Restoring parameters from /tmp/tmp58zpr6ww/model.ckpt-1000\n",
      "INFO:tensorflow:Running local_init_op.\n",
      "INFO:tensorflow:Done running local_init_op.\n",
      "INFO:tensorflow:Finished evaluation at 2019-04-09-14:29:09\n",
      "INFO:tensorflow:Saving dict for global step 1000: accuracy = 0.49567527, accuracy_baseline = 0.5406312, auc = 0.57277346, auc_precision_recall = 0.44453833, average_loss = 0.6833486, global_step = 1000, label/mean = 0.45936882, loss = 6.833142, precision = 0.0913467, prediction/mean = 0.42463598, recall = 0.010937886\n",
      "INFO:tensorflow:Saving 'checkpoint_path' summary for global step 1000: /tmp/tmp58zpr6ww/model.ckpt-1000\n"
     ]
    }
   ],
   "source": [
    "results = model.evaluate(eval_input_func)"
   ]
  },
  {
   "cell_type": "code",
   "execution_count": 38,
   "metadata": {},
   "outputs": [
    {
     "name": "stdout",
     "output_type": "stream",
     "text": [
      "INFO:tensorflow:Using default config.\n",
      "WARNING:tensorflow:Using temporary folder as model directory: /tmp/tmp53c2mfwk\n",
      "INFO:tensorflow:Using config: {'_model_dir': '/tmp/tmp53c2mfwk', '_tf_random_seed': None, '_save_summary_steps': 100, '_save_checkpoints_steps': None, '_save_checkpoints_secs': 600, '_session_config': allow_soft_placement: true\n",
      "graph_options {\n",
      "  rewrite_options {\n",
      "    meta_optimizer_iterations: ONE\n",
      "  }\n",
      "}\n",
      ", '_keep_checkpoint_max': 5, '_keep_checkpoint_every_n_hours': 10000, '_log_step_count_steps': 100, '_train_distribute': None, '_device_fn': None, '_protocol': None, '_eval_distribute': None, '_experimental_distribute': None, '_service': None, '_cluster_spec': <tensorflow.python.training.server_lib.ClusterSpec object at 0x7f3fbc2ebc88>, '_task_type': 'worker', '_task_id': 0, '_global_id_in_cluster': 0, '_master': '', '_evaluation_master': '', '_is_chief': True, '_num_ps_replicas': 0, '_num_worker_replicas': 1}\n"
     ]
    }
   ],
   "source": [
    "dnn_model = tf.estimator.DNNClassifier(hidden_units=[35,35,35,35,35,35,35,35,35],feature_columns=feat_cols,n_classes=2)"
   ]
  },
  {
   "cell_type": "code",
   "execution_count": 39,
   "metadata": {},
   "outputs": [
    {
     "name": "stdout",
     "output_type": "stream",
     "text": [
      "INFO:tensorflow:Calling model_fn.\n",
      "INFO:tensorflow:Done calling model_fn.\n",
      "INFO:tensorflow:Create CheckpointSaverHook.\n",
      "INFO:tensorflow:Graph was finalized.\n",
      "INFO:tensorflow:Running local_init_op.\n",
      "INFO:tensorflow:Done running local_init_op.\n",
      "INFO:tensorflow:Saving checkpoints for 0 into /tmp/tmp53c2mfwk/model.ckpt.\n",
      "INFO:tensorflow:loss = 6.925638, step = 0\n",
      "INFO:tensorflow:global_step/sec: 114.702\n",
      "INFO:tensorflow:loss = 6.962886, step = 100 (0.874 sec)\n",
      "INFO:tensorflow:global_step/sec: 164.905\n",
      "INFO:tensorflow:loss = 6.1839514, step = 200 (0.606 sec)\n",
      "INFO:tensorflow:global_step/sec: 162.929\n",
      "INFO:tensorflow:loss = 9.32228, step = 300 (0.614 sec)\n",
      "INFO:tensorflow:global_step/sec: 155.568\n",
      "INFO:tensorflow:loss = 3.6162486, step = 400 (0.643 sec)\n",
      "INFO:tensorflow:global_step/sec: 157.24\n",
      "INFO:tensorflow:loss = 1.6405216, step = 500 (0.636 sec)\n",
      "INFO:tensorflow:global_step/sec: 156.54\n",
      "INFO:tensorflow:loss = 0.74617386, step = 600 (0.640 sec)\n",
      "INFO:tensorflow:global_step/sec: 160.19\n",
      "INFO:tensorflow:loss = 8.297423, step = 700 (0.623 sec)\n",
      "INFO:tensorflow:global_step/sec: 174.348\n",
      "INFO:tensorflow:loss = 2.0651462, step = 800 (0.577 sec)\n",
      "INFO:tensorflow:global_step/sec: 151.545\n",
      "INFO:tensorflow:loss = 3.5763738, step = 900 (0.657 sec)\n",
      "INFO:tensorflow:global_step/sec: 160.468\n",
      "INFO:tensorflow:loss = 2.5613801, step = 1000 (0.623 sec)\n",
      "INFO:tensorflow:global_step/sec: 159.088\n",
      "INFO:tensorflow:loss = 4.3314347, step = 1100 (0.630 sec)\n",
      "INFO:tensorflow:global_step/sec: 159.149\n",
      "INFO:tensorflow:loss = 3.923878, step = 1200 (0.628 sec)\n",
      "INFO:tensorflow:global_step/sec: 160.511\n",
      "INFO:tensorflow:loss = 5.986147, step = 1300 (0.625 sec)\n",
      "INFO:tensorflow:global_step/sec: 169.542\n",
      "INFO:tensorflow:loss = 1.5280267, step = 1400 (0.589 sec)\n",
      "INFO:tensorflow:global_step/sec: 167.987\n",
      "INFO:tensorflow:loss = 3.6406581, step = 1500 (0.596 sec)\n",
      "INFO:tensorflow:global_step/sec: 160.384\n",
      "INFO:tensorflow:loss = 5.977614, step = 1600 (0.623 sec)\n",
      "INFO:tensorflow:global_step/sec: 164.704\n",
      "INFO:tensorflow:loss = 0.8164958, step = 1700 (0.605 sec)\n",
      "INFO:tensorflow:global_step/sec: 163.95\n",
      "INFO:tensorflow:loss = 3.5048125, step = 1800 (0.609 sec)\n",
      "INFO:tensorflow:global_step/sec: 185.106\n",
      "INFO:tensorflow:loss = 0.5091119, step = 1900 (0.540 sec)\n",
      "INFO:tensorflow:global_step/sec: 179.508\n",
      "INFO:tensorflow:loss = 0.9842793, step = 2000 (0.557 sec)\n",
      "INFO:tensorflow:global_step/sec: 171.612\n",
      "INFO:tensorflow:loss = 3.4227395, step = 2100 (0.584 sec)\n",
      "INFO:tensorflow:global_step/sec: 164.91\n",
      "INFO:tensorflow:loss = 3.743202, step = 2200 (0.606 sec)\n",
      "INFO:tensorflow:global_step/sec: 179.135\n",
      "INFO:tensorflow:loss = 6.318218, step = 2300 (0.558 sec)\n",
      "INFO:tensorflow:global_step/sec: 140.885\n",
      "INFO:tensorflow:loss = 1.1553756, step = 2400 (0.712 sec)\n",
      "INFO:tensorflow:global_step/sec: 153.809\n",
      "INFO:tensorflow:loss = 4.0484405, step = 2500 (0.650 sec)\n",
      "INFO:tensorflow:global_step/sec: 147.439\n",
      "INFO:tensorflow:loss = 3.226656, step = 2600 (0.678 sec)\n",
      "INFO:tensorflow:global_step/sec: 145.969\n",
      "INFO:tensorflow:loss = 6.886592, step = 2700 (0.683 sec)\n",
      "INFO:tensorflow:global_step/sec: 158.304\n",
      "INFO:tensorflow:loss = 3.8030748, step = 2800 (0.633 sec)\n",
      "INFO:tensorflow:global_step/sec: 149.641\n",
      "INFO:tensorflow:loss = 0.8762671, step = 2900 (0.668 sec)\n",
      "INFO:tensorflow:global_step/sec: 146.438\n",
      "INFO:tensorflow:loss = 1.8314984, step = 3000 (0.682 sec)\n",
      "INFO:tensorflow:global_step/sec: 144.177\n",
      "INFO:tensorflow:loss = 2.7456927, step = 3100 (0.696 sec)\n",
      "INFO:tensorflow:global_step/sec: 164.212\n",
      "INFO:tensorflow:loss = 3.864814, step = 3200 (0.609 sec)\n",
      "INFO:tensorflow:global_step/sec: 179.524\n",
      "INFO:tensorflow:loss = 3.838396, step = 3300 (0.555 sec)\n",
      "INFO:tensorflow:global_step/sec: 166.81\n",
      "INFO:tensorflow:loss = 4.741662, step = 3400 (0.600 sec)\n",
      "INFO:tensorflow:global_step/sec: 159.875\n",
      "INFO:tensorflow:loss = 0.8932278, step = 3500 (0.628 sec)\n",
      "INFO:tensorflow:global_step/sec: 160.622\n",
      "INFO:tensorflow:loss = 3.9254563, step = 3600 (0.620 sec)\n",
      "INFO:tensorflow:global_step/sec: 159.676\n",
      "INFO:tensorflow:loss = 2.9413986, step = 3700 (0.626 sec)\n",
      "INFO:tensorflow:global_step/sec: 161.442\n",
      "INFO:tensorflow:loss = 3.3112657, step = 3800 (0.620 sec)\n",
      "INFO:tensorflow:global_step/sec: 182.048\n",
      "INFO:tensorflow:loss = 6.1378593, step = 3900 (0.550 sec)\n",
      "INFO:tensorflow:global_step/sec: 154.179\n",
      "INFO:tensorflow:loss = 1.2727519, step = 4000 (0.648 sec)\n",
      "INFO:tensorflow:global_step/sec: 157.874\n",
      "INFO:tensorflow:loss = 0.6410859, step = 4100 (0.636 sec)\n",
      "INFO:tensorflow:global_step/sec: 164.168\n",
      "INFO:tensorflow:loss = 0.8039648, step = 4200 (0.606 sec)\n",
      "INFO:tensorflow:global_step/sec: 172.265\n",
      "INFO:tensorflow:loss = 2.6866753, step = 4300 (0.583 sec)\n",
      "INFO:tensorflow:global_step/sec: 157.65\n",
      "INFO:tensorflow:loss = 1.7300364, step = 4400 (0.634 sec)\n",
      "INFO:tensorflow:global_step/sec: 167.089\n",
      "INFO:tensorflow:loss = 0.8116792, step = 4500 (0.596 sec)\n",
      "INFO:tensorflow:global_step/sec: 172.28\n",
      "INFO:tensorflow:loss = 4.1255717, step = 4600 (0.581 sec)\n",
      "INFO:tensorflow:global_step/sec: 155.706\n",
      "INFO:tensorflow:loss = 1.653003, step = 4700 (0.642 sec)\n",
      "INFO:tensorflow:global_step/sec: 162.547\n",
      "INFO:tensorflow:loss = 4.025922, step = 4800 (0.616 sec)\n",
      "INFO:tensorflow:global_step/sec: 183.92\n",
      "INFO:tensorflow:loss = 3.140744, step = 4900 (0.543 sec)\n",
      "INFO:tensorflow:Saving checkpoints for 5000 into /tmp/tmp53c2mfwk/model.ckpt.\n",
      "INFO:tensorflow:Loss for final step: 3.7951596.\n"
     ]
    },
    {
     "data": {
      "text/plain": [
       "<tensorflow_estimator.python.estimator.canned.dnn.DNNClassifier at 0x7f3fbc2eb7b8>"
      ]
     },
     "execution_count": 39,
     "metadata": {},
     "output_type": "execute_result"
    }
   ],
   "source": [
    "dnn_model.train(input_fn=input_func,steps=5000)"
   ]
  },
  {
   "cell_type": "code",
   "execution_count": 40,
   "metadata": {},
   "outputs": [],
   "source": [
    "eval_input_func = tf.estimator.inputs.pandas_input_fn(\n",
    "      x=X_test,\n",
    "      y=y_test,\n",
    "      batch_size=10,\n",
    "      num_epochs=1,\n",
    "      shuffle=False)"
   ]
  },
  {
   "cell_type": "code",
   "execution_count": 42,
   "metadata": {},
   "outputs": [
    {
     "name": "stdout",
     "output_type": "stream",
     "text": [
      "INFO:tensorflow:Calling model_fn.\n",
      "WARNING:tensorflow:Trapezoidal rule is known to produce incorrect PR-AUCs; please switch to \"careful_interpolation\" instead.\n",
      "WARNING:tensorflow:Trapezoidal rule is known to produce incorrect PR-AUCs; please switch to \"careful_interpolation\" instead.\n",
      "INFO:tensorflow:Done calling model_fn.\n",
      "INFO:tensorflow:Starting evaluation at 2019-04-09T15:48:53Z\n",
      "INFO:tensorflow:Graph was finalized.\n",
      "INFO:tensorflow:Restoring parameters from /tmp/tmp53c2mfwk/model.ckpt-5000\n",
      "INFO:tensorflow:Running local_init_op.\n",
      "INFO:tensorflow:Done running local_init_op.\n",
      "INFO:tensorflow:Finished evaluation at 2019-04-09-15:50:33\n",
      "INFO:tensorflow:Saving dict for global step 5000: accuracy = 0.90749705, accuracy_baseline = 0.5406312, auc = 0.9371746, auc_precision_recall = 0.937763, average_loss = 0.28053758, global_step = 5000, label/mean = 0.45936882, loss = 2.8052344, precision = 0.9084809, prediction/mean = 0.47633767, recall = 0.888096\n",
      "INFO:tensorflow:Saving 'checkpoint_path' summary for global step 5000: /tmp/tmp53c2mfwk/model.ckpt-5000\n"
     ]
    },
    {
     "data": {
      "text/plain": [
       "{'accuracy': 0.90749705,\n",
       " 'accuracy_baseline': 0.5406312,\n",
       " 'auc': 0.9371746,\n",
       " 'auc_precision_recall': 0.937763,\n",
       " 'average_loss': 0.28053758,\n",
       " 'label/mean': 0.45936882,\n",
       " 'loss': 2.8052344,\n",
       " 'precision': 0.9084809,\n",
       " 'prediction/mean': 0.47633767,\n",
       " 'recall': 0.888096,\n",
       " 'global_step': 5000}"
      ]
     },
     "execution_count": 42,
     "metadata": {},
     "output_type": "execute_result"
    }
   ],
   "source": [
    "dnn_model.evaluate(eval_input_func)"
   ]
  },
  {
   "cell_type": "code",
   "execution_count": 63,
   "metadata": {},
   "outputs": [],
   "source": [
    "predictions = dnn_model.predict(eval_input_func)"
   ]
  },
  {
   "cell_type": "code",
   "execution_count": null,
   "metadata": {},
   "outputs": [
    {
     "name": "stdout",
     "output_type": "stream",
     "text": [
      "INFO:tensorflow:Calling model_fn.\n",
      "INFO:tensorflow:Done calling model_fn.\n",
      "INFO:tensorflow:Graph was finalized.\n",
      "INFO:tensorflow:Restoring parameters from /tmp/tmp53c2mfwk/model.ckpt-5000\n",
      "INFO:tensorflow:Running local_init_op.\n",
      "INFO:tensorflow:Done running local_init_op.\n"
     ]
    }
   ],
   "source": [
    "predict = list(predictions)"
   ]
  },
  {
   "cell_type": "code",
   "execution_count": 61,
   "metadata": {},
   "outputs": [],
   "source": [
    "final_preds = [pred['class_ids'][0] for pred in predict]"
   ]
  },
  {
   "cell_type": "code",
   "execution_count": 62,
   "metadata": {},
   "outputs": [
    {
     "data": {
      "text/plain": [
       "[]"
      ]
     },
     "execution_count": 62,
     "metadata": {},
     "output_type": "execute_result"
    }
   ],
   "source": [
    "final_preds"
   ]
  },
  {
   "cell_type": "code",
   "execution_count": null,
   "metadata": {},
   "outputs": [],
   "source": []
  }
 ],
 "metadata": {
  "kernelspec": {
   "display_name": "Python (tf36)",
   "language": "python",
   "name": "tf36"
  },
  "language_info": {
   "codemirror_mode": {
    "name": "ipython",
    "version": 3
   },
   "file_extension": ".py",
   "mimetype": "text/x-python",
   "name": "python",
   "nbconvert_exporter": "python",
   "pygments_lexer": "ipython3",
   "version": "3.6.7"
  }
 },
 "nbformat": 4,
 "nbformat_minor": 2
}
